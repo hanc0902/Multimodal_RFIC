{
 "cells": [
  {
   "cell_type": "code",
   "execution_count": 3,
   "id": "933bc179-01c0-465d-8e4d-21d6e2903315",
   "metadata": {},
   "outputs": [],
   "source": [
    "import math\n",
    "from collections import defaultdict\n",
    "import networkx as nx\n",
    "from svgpathtools import svg2paths2\n",
    "\n",
    "def sample_path(path, step=2.0):\n",
    "    \"\"\"Sample complex path into (x,y) points spaced by ~step.\"\"\"\n",
    "    L = path.length()\n",
    "    if L == 0:\n",
    "        return []\n",
    "    n = max(2, int(math.ceil(L / step)))\n",
    "    ts = [i / (n - 1) for i in range(n)]\n",
    "    pts = []\n",
    "    for t in ts:\n",
    "        z = path.point(t)\n",
    "        pts.append((float(z.real), float(z.imag)))\n",
    "    return pts\n",
    "\n",
    "def snap_point(p, snap=1.5):\n",
    "    \"\"\"Snap (x,y) to a grid of size `snap` to merge near-duplicates.\"\"\"\n",
    "    x, y = p\n",
    "    return (round(x / snap) * snap, round(y / snap) * snap)\n",
    "\n",
    "def svg_to_graph(svg_file, step=2.0, snap=1.5, min_segment=0.0):\n",
    "    \"\"\"\n",
    "    Convert SVG paths to an undirected graph.\n",
    "    - step: sampling step along curves (in SVG units)\n",
    "    - snap: snapping tolerance (grid size) to merge close points\n",
    "    - min_segment: discard segments shorter than this length\n",
    "    \"\"\"\n",
    "    paths, attrs, svg_attr = svg2paths2(svg_file)\n",
    "\n",
    "    # 1) Collect polylines from all paths\n",
    "    polylines = []\n",
    "    for path in paths:\n",
    "        pts = sample_path(path, step=step)\n",
    "        if len(pts) >= 2:\n",
    "            polylines.append(pts)\n",
    "\n",
    "    # 2) Snap points and split into segments\n",
    "    G = nx.Graph()\n",
    "    id_map = {}  # snapped point -> node id\n",
    "    def get_node_id(pt):\n",
    "        if pt not in id_map:\n",
    "            node_id = len(id_map)\n",
    "            id_map[pt] = node_id\n",
    "            G.add_node(node_id, pos=pt)\n",
    "        return id_map[pt]\n",
    "\n",
    "    def seg_len(a, b):\n",
    "        return math.hypot(a[0] - b[0], a[1] - b[1])\n",
    "\n",
    "    for poly in polylines:\n",
    "        snapped = [snap_point(p, snap) for p in poly]\n",
    "        # de-duplicate consecutive identical snapped points\n",
    "        clean = [snapped[0]]\n",
    "        for p in snapped[1:]:\n",
    "            if p != clean[-1]:\n",
    "                clean.append(p)\n",
    "        if len(clean) < 2:\n",
    "            continue\n",
    "\n",
    "        # add edges between consecutive points\n",
    "        for i in range(len(clean) - 1):\n",
    "            a, b = clean[i], clean[i + 1]\n",
    "            if seg_len(a, b) <= min_segment:\n",
    "                continue\n",
    "            u, v = get_node_id(a), get_node_id(b)\n",
    "            # Store the small segment; we can later collapse degree-2 chains if desired\n",
    "            if G.has_edge(u, v):\n",
    "                # Optionally append geometry to a list; here we keep last\n",
    "                G[u][v]['polyline'] = [a, b]\n",
    "            else:\n",
    "                G.add_edge(u, v, polyline=[a, b])\n",
    "\n",
    "    # 3) Optional: collapse degree-2 chains to simplify graph geometry\n",
    "    #    (keeps only junctions and endpoints as nodes)\n",
    "    def collapse_chains(G):\n",
    "        H = G.copy()\n",
    "        changed = True\n",
    "        while changed:\n",
    "            changed = False\n",
    "            for n in list(H.nodes()):\n",
    "                if H.degree(n) == 2 and H.number_of_nodes() > 2:\n",
    "                    nbrs = list(H.neighbors(n))\n",
    "                    if len(nbrs) != 2:\n",
    "                        continue\n",
    "                    a, b = nbrs\n",
    "                    if a == b or H.has_edge(a, b):\n",
    "                        continue\n",
    "                    # merge polylines (a-n) + (n-b)\n",
    "                    pa = H[a][n].get('polyline', [H.nodes[a]['pos'], H.nodes[n]['pos']])\n",
    "                    pb = H[n][b].get('polyline', [H.nodes[n]['pos'], H.nodes[b]['pos']])\n",
    "                    # ensure continuity: remove duplicate middle point\n",
    "                    merged = pa + pb[1:]\n",
    "                    H.add_edge(a, b, polyline=merged)\n",
    "                    H.remove_node(n)\n",
    "                    changed = True\n",
    "                    break\n",
    "        return H\n",
    "\n",
    "    G_simplified = collapse_chains(G)\n",
    "    return G_simplified\n"
   ]
  },
  {
   "cell_type": "code",
   "execution_count": 29,
   "id": "e2154f25-4db9-4595-b99a-7e0954eb2e7f",
   "metadata": {},
   "outputs": [],
   "source": [
    "# Example usage:\n",
    "G = svg_to_graph(\"/rdf/rise/Houbo/Code_EMX_SiGe/SVG_TEMP/XFMR8Shaped1x20.svg\", step=50, snap=12, min_segment=8)\n",
    "pos = nx.get_node_attributes(G, \"pos\")  # dict: node -> (x, y)\n",
    "for u, v, data in G.edges(data=True):\n",
    "    poly = data[\"polyline\"]  # list of (x, y) points for that edg"
   ]
  },
  {
   "cell_type": "code",
   "execution_count": 30,
   "id": "b2efb2d1-b538-4c6c-86f8-92a908f910b5",
   "metadata": {},
   "outputs": [
    {
     "name": "stdout",
     "output_type": "stream",
     "text": [
      "[(-2280, -3900), (-2280, -3948)]\n"
     ]
    }
   ],
   "source": [
    "print(poly)"
   ]
  },
  {
   "cell_type": "code",
   "execution_count": 31,
   "id": "f2602d23-e71c-44d5-879c-89f907f657c8",
   "metadata": {},
   "outputs": [
    {
     "name": "stdout",
     "output_type": "stream",
     "text": [
      "{175: (-1884, -924), 181: (-1584, -924), 465: (-1488, -936), 466: (-1524, -924), 471: (-1824, -924), 681: (2004, 3624), 682: (2004, 3672), 711: (-744, 1200), 712: (-696, 1200), 976: (-84, 936), 1067: (756, 996), 1069: (756, 1080), 1127: (228, 960), 1131: (-768, 996), 1132: (-720, 996), 1133: (-696, 1032), 1187: (768, 876), 1188: (720, 876), 1190: (696, 804), 1275: (696, 600), 1276: (744, 600), 1277: (768, 624), 1407: (696, 996), 1413: (1008, 1116), 1785: (-144, 3360), 1786: (-144, 3408), 1852: (768, 828), 1856: (696, 1200), 1857: (744, 1200), 1858: (768, 1224), 1862: (-768, 804), 1863: (-720, 804), 1864: (-696, 828), 2288: (-2280, -3852), 2289: (-2280, -3900), 2290: (-2280, -3948)}\n"
     ]
    }
   ],
   "source": [
    "print(pos)"
   ]
  },
  {
   "cell_type": "code",
   "execution_count": 28,
   "id": "e0960764-3d7b-4bb7-9fd0-064411c3a3d4",
   "metadata": {},
   "outputs": [
    {
     "data": {
      "text/plain": [
       "36"
      ]
     },
     "execution_count": 28,
     "metadata": {},
     "output_type": "execute_result"
    }
   ],
   "source": [
    "len(pos)"
   ]
  },
  {
   "cell_type": "code",
   "execution_count": 33,
   "id": "26bf3474-f142-4fe2-913d-a302ed78bacf",
   "metadata": {},
   "outputs": [
    {
     "name": "stdout",
     "output_type": "stream",
     "text": [
      "175 471\n",
      "175 682\n",
      "175 181\n",
      "175 681\n",
      "181 466\n",
      "181 465\n",
      "181 471\n",
      "465 466\n",
      "681 682\n",
      "711 712\n",
      "711 976\n",
      "711 1188\n",
      "712 976\n",
      "712 1190\n",
      "976 1786\n",
      "976 1785\n",
      "1067 1407\n",
      "1067 1127\n",
      "1067 1069\n",
      "1067 1413\n",
      "1069 1127\n",
      "1069 1413\n",
      "1069 1407\n",
      "1131 1132\n",
      "1131 1133\n",
      "1132 1133\n",
      "1187 1188\n",
      "1187 1852\n",
      "1187 1190\n",
      "1188 1190\n",
      "1190 1852\n",
      "1275 1276\n",
      "1275 1277\n",
      "1276 1277\n",
      "1785 1786\n",
      "1856 1857\n",
      "1856 1858\n",
      "1857 1858\n",
      "1862 1863\n",
      "1862 1864\n",
      "1863 1864\n",
      "2288 2289\n",
      "2288 2290\n",
      "2289 2290\n"
     ]
    }
   ],
   "source": [
    "for u, v, data in G.edges(data=True):\n",
    "    print(u, v)"
   ]
  },
  {
   "cell_type": "code",
   "execution_count": null,
   "id": "873cdf7c-7082-4470-9a37-e5f92cde1221",
   "metadata": {},
   "outputs": [],
   "source": []
  }
 ],
 "metadata": {
  "kernelspec": {
   "display_name": "Python 3 (ipykernel)",
   "language": "python",
   "name": "python3"
  },
  "language_info": {
   "codemirror_mode": {
    "name": "ipython",
    "version": 3
   },
   "file_extension": ".py",
   "mimetype": "text/x-python",
   "name": "python",
   "nbconvert_exporter": "python",
   "pygments_lexer": "ipython3",
   "version": "3.8.19"
  }
 },
 "nbformat": 4,
 "nbformat_minor": 5
}
